{
 "cells": [
  {
   "cell_type": "code",
   "execution_count": 4,
   "metadata": {},
   "outputs": [],
   "source": [
    "import torch"
   ]
  },
  {
   "cell_type": "code",
   "execution_count": 5,
   "metadata": {},
   "outputs": [],
   "source": [
    "class ACBMSE(torch.nn.Module):\n",
    "    def __init__(self, zero_weighting=1, nonzero_weighting=1):\n",
    "        \"\"\"\n",
    "        Initializes the AdaWeightedMSELossClassed class with weighting coefficients.\n",
    "\n",
    "        Args:\n",
    "        - zero_weighting: a scalar weighting coefficient for the MSE loss of zero pixels\n",
    "        - nonzero_weighting: a scalar weighting coefficient for the MSE loss of non-zero pixels\n",
    "        \"\"\"\n",
    "        super().__init__()   \n",
    "        self.zero_weighting = zero_weighting\n",
    "        self.nonzero_weighting = nonzero_weighting\n",
    "        self.mse_loss = torch.nn.MSELoss(reduction='mean')\n",
    "\n",
    "    def __call__(self, reconstructed_image, target_image):\n",
    "        \"\"\"\n",
    "        Calculates the weighted mean squared error (MSE) loss between target_image and reconstructed_image.\n",
    "        The loss for zero pixels in the target_image is weighted by zero_weighting, and the loss for non-zero\n",
    "        pixels is weighted by nonzero_weighting.\n",
    "\n",
    "        Args:\n",
    "        - target_image: a tensor of shape (B, C, H, W) containing the target image\n",
    "        - reconstructed_image: a tensor of shape (B, C, H, W) containing the reconstructed image\n",
    "\n",
    "        Returns:\n",
    "        - weighted_mse_loss: a scalar tensor containing the weighted MSE loss\n",
    "        \"\"\"\n",
    "        zero_mask = (target_image == 0)\n",
    "        nonzero_mask = ~zero_mask\n",
    "\n",
    "        values_zero = target_image[zero_mask]\n",
    "        values_nonzero = target_image[nonzero_mask]\n",
    "\n",
    "        corresponding_values_zero = reconstructed_image[zero_mask]\n",
    "        corresponding_values_nonzero = reconstructed_image[nonzero_mask]\n",
    "\n",
    "        zero_loss = self.mse_loss(corresponding_values_zero, values_zero)\n",
    "        nonzero_loss = self.mse_loss(corresponding_values_nonzero, values_nonzero)\n",
    "\n",
    "        if torch.isnan(zero_loss):\n",
    "            zero_loss = 0\n",
    "        if torch.isnan(nonzero_loss):\n",
    "            nonzero_loss = 0\n",
    "\n",
    "        weighted_mse_loss = (self.zero_weighting * zero_loss) + (self.nonzero_weighting * nonzero_loss)\n",
    "\n",
    "        return weighted_mse_loss\n"
   ]
  },
  {
   "cell_type": "code",
   "execution_count": 6,
   "metadata": {},
   "outputs": [
    {
     "name": "stdout",
     "output_type": "stream",
     "text": [
      "tensor(0.2230)\n"
     ]
    }
   ],
   "source": [
    "zero_weighting = 1\n",
    "nonzero_weighting = 1\n",
    "\n",
    "# Create a target image and a reconstructed image randomly\n",
    "target_image = torch.rand(1, 1, 3, 3)\n",
    "reconstructed_image = torch.rand(1, 1, 3, 3)\n",
    "\n",
    "# Create the ACBMSE loss \n",
    "loss_fn = ACBMSE(zero_weighting=zero_weighting, nonzero_weighting=nonzero_weighting)\n",
    "\n",
    "# Calculate the weighted MSE loss\n",
    "loss = loss_fn(reconstructed_image, target_image)\n",
    "\n",
    "print(loss)"
   ]
  },
  {
   "cell_type": "markdown",
   "metadata": {},
   "source": [
    "# Demos"
   ]
  },
  {
   "cell_type": "code",
   "execution_count": null,
   "metadata": {},
   "outputs": [],
   "source": [
    "# Test case 1:"
   ]
  },
  {
   "cell_type": "code",
   "execution_count": null,
   "metadata": {},
   "outputs": [],
   "source": [
    "# Test case 2:"
   ]
  },
  {
   "cell_type": "code",
   "execution_count": null,
   "metadata": {},
   "outputs": [],
   "source": [
    "# Test case 3:"
   ]
  },
  {
   "cell_type": "code",
   "execution_count": null,
   "metadata": {},
   "outputs": [],
   "source": [
    "# Test case 4:"
   ]
  },
  {
   "cell_type": "code",
   "execution_count": null,
   "metadata": {},
   "outputs": [],
   "source": [
    "# Test case 5:"
   ]
  },
  {
   "cell_type": "code",
   "execution_count": null,
   "metadata": {},
   "outputs": [],
   "source": [
    "# Test case 6:"
   ]
  }
 ],
 "metadata": {
  "kernelspec": {
   "display_name": "Python 3",
   "language": "python",
   "name": "python3"
  },
  "language_info": {
   "codemirror_mode": {
    "name": "ipython",
    "version": 3
   },
   "file_extension": ".py",
   "mimetype": "text/x-python",
   "name": "python",
   "nbconvert_exporter": "python",
   "pygments_lexer": "ipython3",
   "version": "3.10.9"
  },
  "orig_nbformat": 4
 },
 "nbformat": 4,
 "nbformat_minor": 2
}
